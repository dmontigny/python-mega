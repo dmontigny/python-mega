{
 "cells": [
  {
   "cell_type": "markdown",
   "metadata": {},
   "source": [
    "## imports"
   ]
  },
  {
   "cell_type": "code",
   "execution_count": 1,
   "metadata": {},
   "outputs": [],
   "source": [
    "from pandas_datareader import data as pdr\n",
    "import pandas as pd\n",
    "import datetime\n",
    "from bokeh.plotting import figure, show, output_file"
   ]
  },
  {
   "cell_type": "markdown",
   "metadata": {},
   "source": [
    "## get dataframe"
   ]
  },
  {
   "cell_type": "code",
   "execution_count": 208,
   "metadata": {},
   "outputs": [
    {
     "name": "stdout",
     "output_type": "stream",
     "text": [
      "2015-11-09 00:00:00 2016-03-09 00:00:00\n",
      "                  High         Low        Open       Close   Volume  \\\n",
      "Date                                                                  \n",
      "2015-11-09  734.710022  719.429993  730.200012  724.890015  2069800   \n",
      "2015-11-10  730.590027  718.500000  724.400024  728.320007  1608000   \n",
      "2015-11-11  741.000000  730.229980  732.460022  735.400024  1366400   \n",
      "2015-11-12  737.799988  728.645020  731.000000  731.229980  1837200   \n",
      "2015-11-13  731.150024  716.729980  729.169983  717.000000  2075500   \n",
      "...                ...         ...         ...         ...      ...   \n",
      "2016-03-04  716.489990  706.020020  714.989990  710.890015  1972100   \n",
      "2016-03-07  708.091003  686.900024  706.900024  695.159973  2985100   \n",
      "2016-03-08  703.789978  685.340027  688.590027  693.969971  2076300   \n",
      "2016-03-09  705.679993  694.000000  698.469971  705.239990  1421500   \n",
      "2016-03-10  716.440002  703.359985  708.119995  712.820007  2833500   \n",
      "\n",
      "             Adj Close  \n",
      "Date                    \n",
      "2015-11-09  724.890015  \n",
      "2015-11-10  728.320007  \n",
      "2015-11-11  735.400024  \n",
      "2015-11-12  731.229980  \n",
      "2015-11-13  717.000000  \n",
      "...                ...  \n",
      "2016-03-04  710.890015  \n",
      "2016-03-07  695.159973  \n",
      "2016-03-08  693.969971  \n",
      "2016-03-09  705.239990  \n",
      "2016-03-10  712.820007  \n",
      "\n",
      "[84 rows x 6 columns]\n"
     ]
    }
   ],
   "source": [
    "end = datetime.datetime(2016,3,9)\n",
    "start = end - pd.DateOffset(months=4)\n",
    "# start = datetime.date.today() - pd.DateOffset(days=10)\n",
    "# end = datetime.date.today()\n",
    "print(start, end)\n",
    "goog = pdr.DataReader(name=\"GOOG\", data_source=\"yahoo\", start=start, end=end)\n",
    "print(goog)"
   ]
  },
  {
   "cell_type": "markdown",
   "metadata": {},
   "source": [
    "## add status col to df"
   ]
  },
  {
   "cell_type": "code",
   "execution_count": 209,
   "metadata": {},
   "outputs": [],
   "source": [
    "def stat(cl, op):\n",
    "    if cl > op:\n",
    "        value = \"inc\"\n",
    "    elif op > cl:\n",
    "        value = \"dec\"\n",
    "    else:\n",
    "        value = \"eq\"\n",
    "    return value\n",
    "goog[\"Status\"] = [stat(c, o) for c, o in zip(goog.Close, goog.Open)]"
   ]
  },
  {
   "cell_type": "markdown",
   "metadata": {},
   "source": [
    "## add mean and range cols to df"
   ]
  },
  {
   "cell_type": "code",
   "execution_count": 210,
   "metadata": {},
   "outputs": [],
   "source": [
    "goog[\"Mean\"] = (goog.Open + goog.Close)/2\n",
    "goog[\"Range\"] = (goog.Open - goog.Close)"
   ]
  },
  {
   "cell_type": "markdown",
   "metadata": {},
   "source": [
    "## plot params"
   ]
  },
  {
   "cell_type": "code",
   "execution_count": 211,
   "metadata": {},
   "outputs": [],
   "source": [
    "# get datestamps\n",
    "plt_gr = goog.index[goog.Status == 'inc']\n",
    "plt_rd = goog.index[goog.Status == 'dec']\n",
    "\n",
    "# get glyph centers (mean)\n",
    "plt_gr_y = goog.Mean[goog.Status == 'inc']\n",
    "plt_rd_y = goog.Mean[goog.Status == 'dec']\n",
    "\n",
    "# set width to 1/2 of x interval\n",
    "plt_wt = (goog.index[1] - goog.index[0]) / 2\n",
    "\n",
    "# get glyph heights (range)\n",
    "plt_gr_h = goog.Range[goog.Status == 'inc']\n",
    "plt_rd_h = goog.Range[goog.Status == 'dec']\n",
    "\n",
    "gn = '#99ff99'\n",
    "rd = '#ffb399'"
   ]
  },
  {
   "cell_type": "markdown",
   "metadata": {},
   "source": [
    "## plot setup"
   ]
  },
  {
   "cell_type": "code",
   "execution_count": 212,
   "metadata": {},
   "outputs": [
    {
     "data": {
      "text/html": [
       "<div style=\"display: table;\"><div style=\"display: table-row;\"><div style=\"display: table-cell;\"><b title=\"bokeh.models.renderers.GlyphRenderer\">GlyphRenderer</b>(</div><div style=\"display: table-cell;\">id&nbsp;=&nbsp;'13673', <span id=\"13676\" style=\"cursor: pointer;\">&hellip;)</span></div></div><div class=\"13675\" style=\"display: none;\"><div style=\"display: table-cell;\"></div><div style=\"display: table-cell;\">data_source&nbsp;=&nbsp;ColumnDataSource(id='13670', ...),</div></div><div class=\"13675\" style=\"display: none;\"><div style=\"display: table-cell;\"></div><div style=\"display: table-cell;\">glyph&nbsp;=&nbsp;Rect(id='13671', ...),</div></div><div class=\"13675\" style=\"display: none;\"><div style=\"display: table-cell;\"></div><div style=\"display: table-cell;\">hover_glyph&nbsp;=&nbsp;None,</div></div><div class=\"13675\" style=\"display: none;\"><div style=\"display: table-cell;\"></div><div style=\"display: table-cell;\">js_event_callbacks&nbsp;=&nbsp;{},</div></div><div class=\"13675\" style=\"display: none;\"><div style=\"display: table-cell;\"></div><div style=\"display: table-cell;\">js_property_callbacks&nbsp;=&nbsp;{},</div></div><div class=\"13675\" style=\"display: none;\"><div style=\"display: table-cell;\"></div><div style=\"display: table-cell;\">level&nbsp;=&nbsp;'glyph',</div></div><div class=\"13675\" style=\"display: none;\"><div style=\"display: table-cell;\"></div><div style=\"display: table-cell;\">muted&nbsp;=&nbsp;False,</div></div><div class=\"13675\" style=\"display: none;\"><div style=\"display: table-cell;\"></div><div style=\"display: table-cell;\">muted_glyph&nbsp;=&nbsp;None,</div></div><div class=\"13675\" style=\"display: none;\"><div style=\"display: table-cell;\"></div><div style=\"display: table-cell;\">name&nbsp;=&nbsp;None,</div></div><div class=\"13675\" style=\"display: none;\"><div style=\"display: table-cell;\"></div><div style=\"display: table-cell;\">nonselection_glyph&nbsp;=&nbsp;Rect(id='13672', ...),</div></div><div class=\"13675\" style=\"display: none;\"><div style=\"display: table-cell;\"></div><div style=\"display: table-cell;\">selection_glyph&nbsp;=&nbsp;None,</div></div><div class=\"13675\" style=\"display: none;\"><div style=\"display: table-cell;\"></div><div style=\"display: table-cell;\">subscribed_events&nbsp;=&nbsp;[],</div></div><div class=\"13675\" style=\"display: none;\"><div style=\"display: table-cell;\"></div><div style=\"display: table-cell;\">tags&nbsp;=&nbsp;[],</div></div><div class=\"13675\" style=\"display: none;\"><div style=\"display: table-cell;\"></div><div style=\"display: table-cell;\">view&nbsp;=&nbsp;CDSView(id='13674', ...),</div></div><div class=\"13675\" style=\"display: none;\"><div style=\"display: table-cell;\"></div><div style=\"display: table-cell;\">visible&nbsp;=&nbsp;True,</div></div><div class=\"13675\" style=\"display: none;\"><div style=\"display: table-cell;\"></div><div style=\"display: table-cell;\">x_range_name&nbsp;=&nbsp;'default',</div></div><div class=\"13675\" style=\"display: none;\"><div style=\"display: table-cell;\"></div><div style=\"display: table-cell;\">y_range_name&nbsp;=&nbsp;'default')</div></div></div>\n",
       "<script>\n",
       "(function() {\n",
       "  var expanded = false;\n",
       "  var ellipsis = document.getElementById(\"13676\");\n",
       "  ellipsis.addEventListener(\"click\", function() {\n",
       "    var rows = document.getElementsByClassName(\"13675\");\n",
       "    for (var i = 0; i < rows.length; i++) {\n",
       "      var el = rows[i];\n",
       "      el.style.display = expanded ? \"none\" : \"table-row\";\n",
       "    }\n",
       "    ellipsis.innerHTML = expanded ? \"&hellip;)\" : \"&lsaquo;&lsaquo;&lsaquo;\";\n",
       "    expanded = !expanded;\n",
       "  });\n",
       "})();\n",
       "</script>\n"
      ],
      "text/plain": [
       "GlyphRenderer(id='13673', ...)"
      ]
     },
     "execution_count": 212,
     "metadata": {},
     "output_type": "execute_result"
    }
   ],
   "source": [
    "plt = figure(x_axis_type='datetime', width=1000, height=300, sizing_mode='scale_width')\n",
    "plt.title.text=\"Candlestick Chart\"\n",
    "plt.grid.grid_line_alpha = 0.75\n",
    "\n",
    "# add range line segments\n",
    "plt.segment(goog.index, goog.High, goog.index, goog.Low, color='black')\n",
    "\n",
    "# plots for gains\n",
    "plt.rect(x=plt_gr, y=plt_gr_y, width=plt_wt, height=abs(plt_gr_h), fill_color=gn, line_color='black')\n",
    "# plots for losses\n",
    "plt.rect(x=plt_rd, y=plt_rd_y, width=plt_wt, height=abs(plt_rd_h), fill_color=rd, line_color='black')"
   ]
  },
  {
   "cell_type": "markdown",
   "metadata": {},
   "source": [
    "## show plot"
   ]
  },
  {
   "cell_type": "code",
   "execution_count": 213,
   "metadata": {},
   "outputs": [],
   "source": [
    "output_file('cs.html')\n",
    "show(plt)"
   ]
  },
  {
   "cell_type": "code",
   "execution_count": null,
   "metadata": {},
   "outputs": [],
   "source": []
  }
 ],
 "metadata": {
  "kernelspec": {
   "display_name": "Python 3",
   "language": "python",
   "name": "python3"
  },
  "language_info": {
   "codemirror_mode": {
    "name": "ipython",
    "version": 3
   },
   "file_extension": ".py",
   "mimetype": "text/x-python",
   "name": "python",
   "nbconvert_exporter": "python",
   "pygments_lexer": "ipython3",
   "version": "3.6.9"
  }
 },
 "nbformat": 4,
 "nbformat_minor": 4
}
