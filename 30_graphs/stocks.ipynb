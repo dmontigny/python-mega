{
 "cells": [
  {
   "cell_type": "markdown",
   "metadata": {},
   "source": [
    "## imports"
   ]
  },
  {
   "cell_type": "code",
   "execution_count": 1,
   "metadata": {},
   "outputs": [],
   "source": [
    "from pandas_datareader import data as pdr\n",
    "import pandas as pd\n",
    "import datetime\n",
    "from bokeh.plotting import figure, show, output_file"
   ]
  },
  {
   "cell_type": "markdown",
   "metadata": {},
   "source": [
    "## get dataframe"
   ]
  },
  {
   "cell_type": "code",
   "execution_count": 91,
   "metadata": {},
   "outputs": [
    {
     "name": "stdout",
     "output_type": "stream",
     "text": [
      "2016-03-01 00:00:00 2016-03-09 00:00:00\n",
      "                  High         Low        Open       Close   Volume  \\\n",
      "Date                                                                  \n",
      "2016-03-01  718.809998  699.770020  703.619995  718.809998  2151400   \n",
      "2016-03-02  720.000000  712.000000  719.000000  718.849976  1629000   \n",
      "2016-03-03  719.450012  706.020020  718.679993  712.419983  1958000   \n",
      "2016-03-04  716.489990  706.020020  714.989990  710.890015  1972100   \n",
      "2016-03-07  708.091003  686.900024  706.900024  695.159973  2985100   \n",
      "2016-03-08  703.789978  685.340027  688.590027  693.969971  2076300   \n",
      "2016-03-09  705.679993  694.000000  698.469971  705.239990  1421500   \n",
      "2016-03-10  716.440002  703.359985  708.119995  712.820007  2833500   \n",
      "\n",
      "             Adj Close  \n",
      "Date                    \n",
      "2016-03-01  718.809998  \n",
      "2016-03-02  718.849976  \n",
      "2016-03-03  712.419983  \n",
      "2016-03-04  710.890015  \n",
      "2016-03-07  695.159973  \n",
      "2016-03-08  693.969971  \n",
      "2016-03-09  705.239990  \n",
      "2016-03-10  712.820007  \n"
     ]
    }
   ],
   "source": [
    "end = datetime.datetime(2016,3,9)\n",
    "start = end - pd.DateOffset(days=8)\n",
    "# start = datetime.date.today() - pd.DateOffset(days=10)\n",
    "# end = datetime.date.today()\n",
    "print(start, end)\n",
    "goog = pdr.DataReader(name=\"GOOG\", data_source=\"yahoo\", start=start, end=end)\n",
    "print(goog)"
   ]
  },
  {
   "cell_type": "markdown",
   "metadata": {},
   "source": [
    "## plot params"
   ]
  },
  {
   "cell_type": "code",
   "execution_count": 111,
   "metadata": {},
   "outputs": [
    {
     "data": {
      "text/plain": [
       "(Date\n",
       " 2016-03-01    15.190002\n",
       " 2016-03-08     5.379944\n",
       " 2016-03-09     6.770020\n",
       " 2016-03-10     4.700012\n",
       " dtype: float64, Date\n",
       " 2016-03-02    -0.150024\n",
       " 2016-03-03    -6.260010\n",
       " 2016-03-04    -4.099976\n",
       " 2016-03-07   -11.740051\n",
       " dtype: float64)"
      ]
     },
     "execution_count": 111,
     "metadata": {},
     "output_type": "execute_result"
    }
   ],
   "source": [
    "plt_gr = goog.index[goog.Close > goog.Open]\n",
    "plt_rd = goog.index[goog.Close < goog.Open]\n",
    "\n",
    "plt_gr_y = (goog[\"Close\"][goog.index[goog.Close > goog.Open]]+goog[\"Open\"][goog.index[goog.Close > goog.Open]])/2\n",
    "plt_rd_y = (goog[\"Close\"][goog.index[goog.Close < goog.Open]]+goog[\"Open\"][goog.index[goog.Close < goog.Open]])/2\n",
    "\n",
    "# plt_y = (goog.Close + goog.Open)/2\n",
    "plt_wt = (goog.index[1] - goog.index[0]) / 2\n",
    "# plt_wt = 12*60*60*1000\n",
    "plt_gr_h = goog[\"Close\"][goog.index[goog.Close > goog.Open]]-goog[\"Open\"][goog.index[goog.Close > goog.Open]]\n",
    "plt_rd_h = goog[\"Close\"][goog.index[goog.Close < goog.Open]]-goog[\"Open\"][goog.index[goog.Close < goog.Open]]\n",
    "\n",
    "plt_gr_h, plt_rd_h"
   ]
  },
  {
   "cell_type": "markdown",
   "metadata": {},
   "source": [
    "## plot setup"
   ]
  },
  {
   "cell_type": "code",
   "execution_count": 112,
   "metadata": {},
   "outputs": [
    {
     "data": {
      "text/html": [
       "<div style=\"display: table;\"><div style=\"display: table-row;\"><div style=\"display: table-cell;\"><b title=\"bokeh.models.renderers.GlyphRenderer\">GlyphRenderer</b>(</div><div style=\"display: table-cell;\">id&nbsp;=&nbsp;'4863', <span id=\"4866\" style=\"cursor: pointer;\">&hellip;)</span></div></div><div class=\"4865\" style=\"display: none;\"><div style=\"display: table-cell;\"></div><div style=\"display: table-cell;\">data_source&nbsp;=&nbsp;ColumnDataSource(id='4860', ...),</div></div><div class=\"4865\" style=\"display: none;\"><div style=\"display: table-cell;\"></div><div style=\"display: table-cell;\">glyph&nbsp;=&nbsp;Rect(id='4861', ...),</div></div><div class=\"4865\" style=\"display: none;\"><div style=\"display: table-cell;\"></div><div style=\"display: table-cell;\">hover_glyph&nbsp;=&nbsp;None,</div></div><div class=\"4865\" style=\"display: none;\"><div style=\"display: table-cell;\"></div><div style=\"display: table-cell;\">js_event_callbacks&nbsp;=&nbsp;{},</div></div><div class=\"4865\" style=\"display: none;\"><div style=\"display: table-cell;\"></div><div style=\"display: table-cell;\">js_property_callbacks&nbsp;=&nbsp;{},</div></div><div class=\"4865\" style=\"display: none;\"><div style=\"display: table-cell;\"></div><div style=\"display: table-cell;\">level&nbsp;=&nbsp;'glyph',</div></div><div class=\"4865\" style=\"display: none;\"><div style=\"display: table-cell;\"></div><div style=\"display: table-cell;\">muted&nbsp;=&nbsp;False,</div></div><div class=\"4865\" style=\"display: none;\"><div style=\"display: table-cell;\"></div><div style=\"display: table-cell;\">muted_glyph&nbsp;=&nbsp;None,</div></div><div class=\"4865\" style=\"display: none;\"><div style=\"display: table-cell;\"></div><div style=\"display: table-cell;\">name&nbsp;=&nbsp;None,</div></div><div class=\"4865\" style=\"display: none;\"><div style=\"display: table-cell;\"></div><div style=\"display: table-cell;\">nonselection_glyph&nbsp;=&nbsp;Rect(id='4862', ...),</div></div><div class=\"4865\" style=\"display: none;\"><div style=\"display: table-cell;\"></div><div style=\"display: table-cell;\">selection_glyph&nbsp;=&nbsp;None,</div></div><div class=\"4865\" style=\"display: none;\"><div style=\"display: table-cell;\"></div><div style=\"display: table-cell;\">subscribed_events&nbsp;=&nbsp;[],</div></div><div class=\"4865\" style=\"display: none;\"><div style=\"display: table-cell;\"></div><div style=\"display: table-cell;\">tags&nbsp;=&nbsp;[],</div></div><div class=\"4865\" style=\"display: none;\"><div style=\"display: table-cell;\"></div><div style=\"display: table-cell;\">view&nbsp;=&nbsp;CDSView(id='4864', ...),</div></div><div class=\"4865\" style=\"display: none;\"><div style=\"display: table-cell;\"></div><div style=\"display: table-cell;\">visible&nbsp;=&nbsp;True,</div></div><div class=\"4865\" style=\"display: none;\"><div style=\"display: table-cell;\"></div><div style=\"display: table-cell;\">x_range_name&nbsp;=&nbsp;'default',</div></div><div class=\"4865\" style=\"display: none;\"><div style=\"display: table-cell;\"></div><div style=\"display: table-cell;\">y_range_name&nbsp;=&nbsp;'default')</div></div></div>\n",
       "<script>\n",
       "(function() {\n",
       "  var expanded = false;\n",
       "  var ellipsis = document.getElementById(\"4866\");\n",
       "  ellipsis.addEventListener(\"click\", function() {\n",
       "    var rows = document.getElementsByClassName(\"4865\");\n",
       "    for (var i = 0; i < rows.length; i++) {\n",
       "      var el = rows[i];\n",
       "      el.style.display = expanded ? \"none\" : \"table-row\";\n",
       "    }\n",
       "    ellipsis.innerHTML = expanded ? \"&hellip;)\" : \"&lsaquo;&lsaquo;&lsaquo;\";\n",
       "    expanded = !expanded;\n",
       "  });\n",
       "})();\n",
       "</script>\n"
      ],
      "text/plain": [
       "GlyphRenderer(id='4863', ...)"
      ]
     },
     "execution_count": 112,
     "metadata": {},
     "output_type": "execute_result"
    }
   ],
   "source": [
    "plot = figure(x_axis_type='datetime', width=1000, height=300)\n",
    "plot.title.text=\"Candlestick Chart\"\n",
    "plot.rect(x=plt_gr, y=plt_gr_y, width=plt_wt, height=plt_gr_h, fill_color='green', line_color='black')\n",
    "plot.rect(x=plt_rd, y=plt_rd_y, width=plt_wt, height=plt_rd_h, fill_color='red', line_color='black')"
   ]
  },
  {
   "cell_type": "markdown",
   "metadata": {},
   "source": [
    "## show plot"
   ]
  },
  {
   "cell_type": "code",
   "execution_count": 113,
   "metadata": {},
   "outputs": [],
   "source": [
    "output_file('cs.html')\n",
    "show(plot)"
   ]
  },
  {
   "cell_type": "code",
   "execution_count": 42,
   "metadata": {},
   "outputs": [
    {
     "data": {
      "text/plain": [
       "Timedelta('0 days 12:00:00')"
      ]
     },
     "execution_count": 42,
     "metadata": {},
     "output_type": "execute_result"
    }
   ],
   "source": [
    "(goog.index[1] - goog.index[0]) / 2"
   ]
  },
  {
   "cell_type": "code",
   "execution_count": 65,
   "metadata": {},
   "outputs": [
    {
     "ename": "AttributeError",
     "evalue": "'Figure' object has no attribute 'rect_gr'",
     "output_type": "error",
     "traceback": [
      "\u001b[0;31m---------------------------------------------------------------------------\u001b[0m",
      "\u001b[0;31mAttributeError\u001b[0m                            Traceback (most recent call last)",
      "\u001b[0;32m<ipython-input-65-af9f618cc2f2>\u001b[0m in \u001b[0;36m<module>\u001b[0;34m\u001b[0m\n\u001b[0;32m----> 1\u001b[0;31m \u001b[0mplot\u001b[0m\u001b[0;34m.\u001b[0m\u001b[0mrect_gr\u001b[0m\u001b[0;34m(\u001b[0m\u001b[0;34m)\u001b[0m\u001b[0;34m\u001b[0m\u001b[0;34m\u001b[0m\u001b[0m\n\u001b[0m",
      "\u001b[0;31mAttributeError\u001b[0m: 'Figure' object has no attribute 'rect_gr'"
     ]
    }
   ],
   "source": [
    "plot.rect_gr()"
   ]
  },
  {
   "cell_type": "code",
   "execution_count": null,
   "metadata": {},
   "outputs": [],
   "source": []
  }
 ],
 "metadata": {
  "kernelspec": {
   "display_name": "Python 3",
   "language": "python",
   "name": "python3"
  },
  "language_info": {
   "codemirror_mode": {
    "name": "ipython",
    "version": 3
   },
   "file_extension": ".py",
   "mimetype": "text/x-python",
   "name": "python",
   "nbconvert_exporter": "python",
   "pygments_lexer": "ipython3",
   "version": "3.6.9"
  }
 },
 "nbformat": 4,
 "nbformat_minor": 4
}
