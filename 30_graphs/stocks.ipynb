{
 "cells": [
  {
   "cell_type": "markdown",
   "metadata": {},
   "source": [
    "## imports"
   ]
  },
  {
   "cell_type": "code",
   "execution_count": 11,
   "metadata": {},
   "outputs": [
    {
     "name": "stdout",
     "output_type": "stream",
     "text": [
      "2015-11-09 00:00:00 2016-03-09 00:00:00\n"
     ]
    }
   ],
   "source": [
    "from pandas_datareader import data as pdr\n",
    "import pandas as pd\n",
    "import datetime\n",
    "from bokeh.plotting import figure, show, output_file\n",
    "\n",
    "## get dataframe\n",
    "\n",
    "end = datetime.datetime(2016,3,9)\n",
    "start = end - pd.DateOffset(months=4)\n",
    "# start = datetime.date.today() - pd.DateOffset(days=10)\n",
    "# end = datetime.date.today()\n",
    "print(start, end)\n",
    "goog = pdr.DataReader(name=\"GOOG\", data_source=\"yahoo\", start=start, end=end)\n",
    "# print(goog)\n",
    "\n",
    "## add status col to df\n",
    "\n",
    "def stat(cl, op):\n",
    "    if cl > op:\n",
    "        value = \"inc\"\n",
    "    elif op > cl:\n",
    "        value = \"dec\"\n",
    "    else:\n",
    "        value = \"eq\"\n",
    "    return value\n",
    "goog[\"Status\"] = [stat(c, o) for c, o in zip(goog.Close, goog.Open)]\n",
    "\n",
    "## add mean and range cols to df\n",
    "\n",
    "goog[\"Mean\"] = (goog.Open + goog.Close)/2\n",
    "goog[\"Range\"] = (goog.Open - goog.Close)\n",
    "\n",
    "## plot params\n",
    "\n",
    "# get datestamps\n",
    "plt_gr = goog.index[goog.Status == 'inc']\n",
    "plt_rd = goog.index[goog.Status == 'dec']\n",
    "\n",
    "# get glyph centers (mean)\n",
    "plt_gr_y = goog.Mean[goog.Status == 'inc']\n",
    "plt_rd_y = goog.Mean[goog.Status == 'dec']\n",
    "\n",
    "# set width to 1/2 of x interval\n",
    "plt_wt = (goog.index[1] - goog.index[0]) / 2\n",
    "\n",
    "# get glyph heights (range)\n",
    "plt_gr_h = goog.Range[goog.Status == 'inc']\n",
    "plt_rd_h = goog.Range[goog.Status == 'dec']\n",
    "\n",
    "gn = '#99ff99'\n",
    "rd = '#ffb399'\n",
    "\n",
    "## plot setup\n",
    "\n",
    "plt = figure(x_axis_type='datetime', width=1000, height=300, sizing_mode='scale_width')\n",
    "plt.title.text=\"Candlestick Chart\"\n",
    "plt.grid.grid_line_alpha = 0.75\n",
    "\n",
    "# add range line segments\n",
    "plt.segment(goog.index, goog.High, goog.index, goog.Low, color='black')\n",
    "\n",
    "# plots for gains\n",
    "plt.rect(x=plt_gr, y=plt_gr_y, width=plt_wt, height=abs(plt_gr_h), fill_color=gn, line_color='black')\n",
    "# plots for losses\n",
    "plt.rect(x=plt_rd, y=plt_rd_y, width=plt_wt, height=abs(plt_rd_h), fill_color=rd, line_color='black')\n",
    "\n",
    "## show plot\n",
    "\n",
    "output_file('cs.html')\n",
    "show(plt)"
   ]
  },
  {
   "cell_type": "code",
   "execution_count": 215,
   "metadata": {},
   "outputs": [],
   "source": [
    "from bokeh.embed import components"
   ]
  },
  {
   "cell_type": "code",
   "execution_count": 217,
   "metadata": {},
   "outputs": [],
   "source": [
    "script1, div1 = components(plt)"
   ]
  },
  {
   "cell_type": "code",
   "execution_count": 223,
   "metadata": {},
   "outputs": [
    {
     "name": "stdout",
     "output_type": "stream",
     "text": [
      "\n",
      "<div class=\"bk-root\" id=\"69443071-9e58-44cf-9fb7-244fa213d84f\" data-root-id=\"13627\"></div>\n"
     ]
    }
   ],
   "source": [
    "print(div1)"
   ]
  },
  {
   "cell_type": "code",
   "execution_count": null,
   "metadata": {},
   "outputs": [],
   "source": []
  }
 ],
 "metadata": {
  "kernelspec": {
   "display_name": "Python 3",
   "language": "python",
   "name": "python3"
  },
  "language_info": {
   "codemirror_mode": {
    "name": "ipython",
    "version": 3
   },
   "file_extension": ".py",
   "mimetype": "text/x-python",
   "name": "python",
   "nbconvert_exporter": "python",
   "pygments_lexer": "ipython3",
   "version": "3.6.9"
  }
 },
 "nbformat": 4,
 "nbformat_minor": 4
}
