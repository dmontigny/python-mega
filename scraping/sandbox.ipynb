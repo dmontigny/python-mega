{
 "cells": [
  {
   "cell_type": "code",
   "execution_count": 79,
   "metadata": {},
   "outputs": [],
   "source": [
    "def mean(val):\n",
    "    if isinstance(val, dict):\n",
    "        val = val.values()\n",
    "        print(val)\n",
    "    return sum(val) / len(val)"
   ]
  },
  {
   "cell_type": "code",
   "execution_count": 80,
   "metadata": {},
   "outputs": [
    {
     "name": "stdout",
     "output_type": "stream",
     "text": [
      "2.5\n"
     ]
    }
   ],
   "source": [
    "grades = [1, 2, 3, 4]\n",
    "print(mean(grades))"
   ]
  },
  {
   "cell_type": "code",
   "execution_count": 81,
   "metadata": {},
   "outputs": [
    {
     "name": "stdout",
     "output_type": "stream",
     "text": [
      "dict_values([9.1, 8.8, 7.5])\n",
      "8.466666666666667\n"
     ]
    }
   ],
   "source": [
    "dgrades = {\"mary\": 9.1, \"Sim\": 8.8, \"John\": 7.5}\n",
    "print(mean(dgrades))"
   ]
  },
  {
   "cell_type": "code",
   "execution_count": 82,
   "metadata": {},
   "outputs": [],
   "source": [
    "def pw_chk(st):\n",
    "    if len(st) < 8:\n",
    "        return False\n",
    "    elif len(st) >= 8:\n",
    "        return True"
   ]
  },
  {
   "cell_type": "code",
   "execution_count": 83,
   "metadata": {},
   "outputs": [],
   "source": [
    "def temps(temp):\n",
    "    if temp > 25:\n",
    "        return 'Hot'\n",
    "    elif temp >= 15:\n",
    "        return 'Warm'\n",
    "    else:\n",
    "        return 'Cold'"
   ]
  },
  {
   "cell_type": "code",
   "execution_count": 84,
   "metadata": {},
   "outputs": [
    {
     "name": "stdin",
     "output_type": "stream",
     "text": [
      "Enter temp ff\n"
     ]
    }
   ],
   "source": [
    "tmp = input('Enter temp')"
   ]
  },
  {
   "cell_type": "code",
   "execution_count": 86,
   "metadata": {},
   "outputs": [
    {
     "data": {
      "text/plain": [
       "4"
      ]
     },
     "execution_count": 86,
     "metadata": {},
     "output_type": "execute_result"
    }
   ],
   "source": [
    "int(4.3)"
   ]
  },
  {
   "cell_type": "code",
   "execution_count": 93,
   "metadata": {},
   "outputs": [],
   "source": [
    "def greet():\n",
    "    user = input(\"Enter your name; \")\n",
    "    msg = f\"Hello, {user.title()}!\"\n",
    "    return msg"
   ]
  },
  {
   "cell_type": "code",
   "execution_count": 94,
   "metadata": {},
   "outputs": [
    {
     "name": "stdin",
     "output_type": "stream",
     "text": [
      "Enter your name;  dave\n"
     ]
    },
    {
     "name": "stdout",
     "output_type": "stream",
     "text": [
      "Hello, Dave!\n"
     ]
    }
   ],
   "source": [
    "print(greet())"
   ]
  },
  {
   "cell_type": "code",
   "execution_count": 130,
   "metadata": {},
   "outputs": [
    {
     "name": "stdout",
     "output_type": "stream",
     "text": [
      "98\n",
      "54\n",
      "54\n"
     ]
    },
    {
     "data": {
      "text/plain": [
       "[None, None, None]"
      ]
     },
     "execution_count": 130,
     "metadata": {},
     "output_type": "execute_result"
    }
   ],
   "source": [
    "colors = [11, 34, 98, 43, 45, 54, 54]\n",
    "# x = [x for x in colors if x > 25]\n",
    "[print(x) for x in colors if (isinstance(x, int) and x > 50)]"
   ]
  },
  {
   "cell_type": "markdown",
   "metadata": {},
   "source": [
    "## loop through dict"
   ]
  },
  {
   "cell_type": "code",
   "execution_count": 132,
   "metadata": {},
   "outputs": [
    {
     "data": {
      "text/plain": [
       "{'mary': 9.1, 'Sim': 8.8, 'John': 7.5}"
      ]
     },
     "execution_count": 132,
     "metadata": {},
     "output_type": "execute_result"
    }
   ],
   "source": [
    "dgrades = {\"mary\": 9.1, \"Sim\": 8.8, \"John\": 7.5}\n",
    "dgrades"
   ]
  },
  {
   "cell_type": "code",
   "execution_count": 137,
   "metadata": {},
   "outputs": [
    {
     "name": "stdout",
     "output_type": "stream",
     "text": [
      "[9.1, 8.8, 7.5]\n",
      "[9.1, 8.8, 7.5]\n"
     ]
    }
   ],
   "source": [
    "print([g for g in dgrades.values()])"
   ]
  },
  {
   "cell_type": "code",
   "execution_count": 145,
   "metadata": {},
   "outputs": [
    {
     "name": "stdout",
     "output_type": "stream",
     "text": [
      "John Smith: +37682929928\n",
      "Marry Simpons: +423998200919\n"
     ]
    }
   ],
   "source": [
    "phone_numbers = {\"John Smith\": \"+37682929928\", \"Marry Simpons\": \"+423998200919\"}\n",
    "for k, v in phone_numbers.items():\n",
    "    print(\"%s: %s\" % (k , v))"
   ]
  },
  {
   "cell_type": "markdown",
   "metadata": {},
   "source": [
    "## list comprehension"
   ]
  },
  {
   "cell_type": "code",
   "execution_count": 158,
   "metadata": {},
   "outputs": [
    {
     "name": "stdout",
     "output_type": "stream",
     "text": [
      "[22.1, 23.4, 34.0, 23.0]\n"
     ]
    }
   ],
   "source": [
    "temps = [221, 234, 340, 230]\n",
    "ntmp = [(x/10) for x in temps]\n",
    "print(ntmp)"
   ]
  },
  {
   "cell_type": "code",
   "execution_count": 159,
   "metadata": {},
   "outputs": [
    {
     "name": "stdout",
     "output_type": "stream",
     "text": [
      "[22.1, 23.4, 34.0, 23.0]\n"
     ]
    }
   ],
   "source": [
    "temps1 = [221, 234, 340, -9999, 230]\n",
    "ntmp = [(x/10) for x in temps1 if x != -9999]\n",
    "print(ntmp)"
   ]
  },
  {
   "cell_type": "code",
   "execution_count": 199,
   "metadata": {},
   "outputs": [],
   "source": [
    "def nums(lst):\n",
    "    return [x for x in (lst) if x > 0]"
   ]
  },
  {
   "cell_type": "code",
   "execution_count": 200,
   "metadata": {},
   "outputs": [
    {
     "data": {
      "text/plain": [
       "[5, 2, 8, 1, 8, 3]"
      ]
     },
     "execution_count": 200,
     "metadata": {},
     "output_type": "execute_result"
    }
   ],
   "source": [
    "nums([-8, -6, 5, -5, 2, 8, 1, 8, -9, 3])"
   ]
  },
  {
   "cell_type": "code",
   "execution_count": 201,
   "metadata": {},
   "outputs": [],
   "source": [
    "def nums1(lst):\n",
    "    return [x if isinstance(x, int) else 0 for x in lst]"
   ]
  },
  {
   "cell_type": "code",
   "execution_count": 202,
   "metadata": {},
   "outputs": [
    {
     "name": "stdout",
     "output_type": "stream",
     "text": [
      "[99, 0, 95, 94, 0]\n"
     ]
    }
   ],
   "source": [
    "print(nums1([99, 'x', 95, 94, 'x']))"
   ]
  },
  {
   "cell_type": "code",
   "execution_count": 207,
   "metadata": {},
   "outputs": [],
   "source": [
    "def sum_str(lst):\n",
    "    return sum([float(x) for x in lst])"
   ]
  },
  {
   "cell_type": "code",
   "execution_count": 211,
   "metadata": {},
   "outputs": [
    {
     "data": {
      "text/plain": [
       "7.1"
      ]
     },
     "execution_count": 211,
     "metadata": {},
     "output_type": "execute_result"
    }
   ],
   "source": [
    "sum_str(['1.2', '2.6', '3.3'])"
   ]
  }
 ],
 "metadata": {
  "kernelspec": {
   "display_name": "Python 3",
   "language": "python",
   "name": "python3"
  },
  "language_info": {
   "codemirror_mode": {
    "name": "ipython",
    "version": 3
   },
   "file_extension": ".py",
   "mimetype": "text/x-python",
   "name": "python",
   "nbconvert_exporter": "python",
   "pygments_lexer": "ipython3",
   "version": "3.8.0"
  }
 },
 "nbformat": 4,
 "nbformat_minor": 4
}
