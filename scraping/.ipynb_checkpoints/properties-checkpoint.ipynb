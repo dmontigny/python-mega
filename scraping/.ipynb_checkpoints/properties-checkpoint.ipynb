{
 "cells": [
  {
   "cell_type": "code",
   "execution_count": 2,
   "metadata": {},
   "outputs": [],
   "source": [
    "import requests\n",
    "from bs4 import BeautifulSoup"
   ]
  },
  {
   "cell_type": "code",
   "execution_count": 3,
   "metadata": {},
   "outputs": [],
   "source": [
    "r1 = requests.get(\"http://www.pyclass.com/real-estate/rock-springs-wy/LCWYROCKSPRINGS\", headers={'User-agent': 'Mozilla/5.0 (X11; Ubuntu; Linux x86_64; rv:61.0) Gecko/20100101 Firefox/61.0'})\n",
    "c1 = r1.content\n",
    "sp1 = BeautifulSoup(c1, \"html.parser\")"
   ]
  },
  {
   "cell_type": "code",
   "execution_count": 4,
   "metadata": {},
   "outputs": [],
   "source": [
    "props = sp1.find_all(\"div\", {\"class\": \"propertyRow\"})\n",
    "# props"
   ]
  },
  {
   "cell_type": "code",
   "execution_count": 60,
   "metadata": {},
   "outputs": [],
   "source": [
    "ps = []\n",
    "for prop in props:\n",
    "    d={}\n",
    "    address0 = prop.find_all('span', {'class': 'propAddressCollapse'})[0].text\n",
    "    address1 = prop.find_all('span', {'class': 'propAddressCollapse'})[1].text\n",
    "    d[\"add0\"] = address0\n",
    "    d[\"add1\"] = address1\n",
    "    d[\"price\"] = int(prop.find('h4', {'class': 'propPrice'}).text.strip()[1:].replace(\",\",\"\"))\n",
    "        \n",
    "    secs = prop.find_all('div', {'class': 'secondaryDetails'})\n",
    "    if secs:\n",
    "        for info in secs:\n",
    "            for detail in ([s for s in info.text.split('\\n') if s]):\n",
    "                specs = \" \"\n",
    "                d[specs.join(detail.split()[1:])] =  detail.split()[0]\n",
    "#                 print(detail)\n",
    "\n",
    "    dets = prop.find_all('div', {'class': 'propertyDetails'})\n",
    "    \n",
    "    if dets:\n",
    "        for info in dets:\n",
    "            d[\"mls\"] = int(info.find('div', {'class': 'propertyMLS'}).text.split()[1])\n",
    "#             print(info.find('div', {'class': 'propertyMLS'}).text.replace(\" \", \"\").replace(\"\\n\", \"\").replace(\"#\", \"#: \"))\n",
    "            for detail in ([s for s in info.text.split('\\n') if s]):\n",
    "                if (detail.lower().startswith(\"lot size\")):\n",
    "                    d[\"lot size\"] = detail.split(\":\")[1].strip()\n",
    "#                     print(detail)\n",
    "#                 else:\n",
    "#                     d[\"lot size\"] = None\n",
    "                \n",
    "                \n",
    "    ps.append(d)\n"
   ]
  },
  {
   "cell_type": "code",
   "execution_count": 61,
   "metadata": {},
   "outputs": [
    {
     "data": {
      "text/plain": [
       "[{'add0': '0 Gateway',\n",
       "  'add1': 'Rock Springs, WY 82901',\n",
       "  'price': 725000,\n",
       "  'mls': 20156419},\n",
       " {'add0': '1003 Winchester Blvd.',\n",
       "  'add1': 'Rock Springs, WY 82901',\n",
       "  'price': 452900,\n",
       "  'Beds': '4',\n",
       "  'Full Baths': '4',\n",
       "  'mls': 20152130,\n",
       "  'lot size': '0.21 Acres'},\n",
       " {'add0': '600 Talladega',\n",
       "  'add1': 'Rock Springs, WY 82901',\n",
       "  'price': 396900,\n",
       "  'Beds': '5',\n",
       "  'Sq. Ft': '3,154',\n",
       "  'Full Baths': '3',\n",
       "  'mls': 20156389},\n",
       " {'add0': '3239 Spearhead Way',\n",
       "  'add1': 'Rock Springs, WY 82901',\n",
       "  'price': 389900,\n",
       "  'Beds': '4',\n",
       "  'Sq. Ft': '3,076',\n",
       "  'Full Baths': '3',\n",
       "  'Half Bath': '1',\n",
       "  'mls': 20160119,\n",
       "  'lot size': 'Under 1/2 Acre, 0.23 Acres'},\n",
       " {'add0': '522 Emerald Street',\n",
       "  'add1': 'Rock Springs, WY 82901',\n",
       "  'price': 254000,\n",
       "  'Beds': '3',\n",
       "  'Sq. Ft': '1,172',\n",
       "  'Full Baths': '3',\n",
       "  'mls': 20155008,\n",
       "  'lot size': 'Under 1/2 Acre, 0.19 Acres'},\n",
       " {'add0': \"1302 Veteran's Drive\",\n",
       "  'add1': 'Rock Springs, WY 82901',\n",
       "  'price': 252900,\n",
       "  'Beds': '4',\n",
       "  'Sq. Ft': '1,932',\n",
       "  'Full Baths': '2',\n",
       "  'mls': 20160028,\n",
       "  'lot size': '0.27 Acres'},\n",
       " {'add0': '1021 Cypress Cir',\n",
       "  'add1': 'Rock Springs, WY 82901',\n",
       "  'price': 210000,\n",
       "  'Beds': '4',\n",
       "  'Sq. Ft': '1,676',\n",
       "  'Full Baths': '3',\n",
       "  'mls': 20156320,\n",
       "  'lot size': 'Under 1/2 Acre, 0.43 Acres'},\n",
       " {'add0': '913 Madison Dr',\n",
       "  'add1': 'Rock Springs, WY 82901',\n",
       "  'price': 209000,\n",
       "  'Beds': '3',\n",
       "  'Sq. Ft': '1,344',\n",
       "  'Full Baths': '2',\n",
       "  'mls': 20155756,\n",
       "  'lot size': 'Under 1/2 Acre, 0.13 Acres'},\n",
       " {'add0': '1344 Teton Street',\n",
       "  'add1': 'Rock Springs, WY 82901',\n",
       "  'price': 199900,\n",
       "  'Beds': '3',\n",
       "  'Sq. Ft': '1,920',\n",
       "  'Full Baths': '2',\n",
       "  'mls': 20156880,\n",
       "  'lot size': 'Under 1/2 Acre, 0.14 Acres'},\n",
       " {'add0': '4 Minnies Lane',\n",
       "  'add1': 'Rock Springs, WY 82901',\n",
       "  'price': 196900,\n",
       "  'Beds': '3',\n",
       "  'Sq. Ft': '1,664',\n",
       "  'Full Baths': '2',\n",
       "  'mls': 20156365,\n",
       "  'lot size': '2.02 Acres'}]"
      ]
     },
     "execution_count": 61,
     "metadata": {},
     "output_type": "execute_result"
    }
   ],
   "source": [
    "ps"
   ]
  },
  {
   "cell_type": "code",
   "execution_count": 62,
   "metadata": {},
   "outputs": [
    {
     "ename": "ModuleNotFoundError",
     "evalue": "No module named 'pandas'",
     "output_type": "error",
     "traceback": [
      "\u001b[0;31m---------------------------------------------------------------------------\u001b[0m",
      "\u001b[0;31mModuleNotFoundError\u001b[0m                       Traceback (most recent call last)",
      "\u001b[0;32m<ipython-input-62-38d4b0363d82>\u001b[0m in \u001b[0;36m<module>\u001b[0;34m\u001b[0m\n\u001b[0;32m----> 1\u001b[0;31m \u001b[0;32mimport\u001b[0m \u001b[0mpandas\u001b[0m\u001b[0;34m\u001b[0m\u001b[0;34m\u001b[0m\u001b[0m\n\u001b[0m",
      "\u001b[0;31mModuleNotFoundError\u001b[0m: No module named 'pandas'"
     ]
    }
   ],
   "source": [
    "import pandas"
   ]
  },
  {
   "cell_type": "code",
   "execution_count": null,
   "metadata": {},
   "outputs": [],
   "source": []
  }
 ],
 "metadata": {
  "kernelspec": {
   "display_name": "Python 3",
   "language": "python",
   "name": "python3"
  },
  "language_info": {
   "codemirror_mode": {
    "name": "ipython",
    "version": 3
   },
   "file_extension": ".py",
   "mimetype": "text/x-python",
   "name": "python",
   "nbconvert_exporter": "python",
   "pygments_lexer": "ipython3",
   "version": "3.8.1"
  }
 },
 "nbformat": 4,
 "nbformat_minor": 4
}
