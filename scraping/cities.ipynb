{
 "cells": [
  {
   "cell_type": "code",
   "execution_count": 2,
   "metadata": {},
   "outputs": [],
   "source": [
    "import requests\n",
    "from bs4 import BeautifulSoup"
   ]
  },
  {
   "cell_type": "code",
   "execution_count": 15,
   "metadata": {},
   "outputs": [
    {
     "data": {
      "text/plain": [
       "<!DOCTYPE html>\n",
       "\n",
       "<html>\n",
       "<head>\n",
       "<style>\n",
       "div.cities {\n",
       "    background-color:black;\n",
       "    color:white;\n",
       "    margin:20px;\n",
       "    padding:20px;\n",
       "} \n",
       "</style>\n",
       "</head>\n",
       "<body>\n",
       "<h1 align=\"center\"> Here are three big cities </h1>\n",
       "<div class=\"cities\">\n",
       "<h2>London</h2>\n",
       "<p>London is the capital of England and it's been a British settlement since 2000 years ago. </p>\n",
       "</div>\n",
       "<div class=\"cities\">\n",
       "<h2>Paris</h2>\n",
       "<p>Paris is the capital city of France. It was declared capital since 508.</p>\n",
       "</div>\n",
       "<div class=\"cities\">\n",
       "<h2>Tokyo</h2>\n",
       "<p>Tokyo is the capital of Japan and one of the most populated cities in the world.</p>\n",
       "</div>\n",
       "</body>\n",
       "</html>"
      ]
     },
     "execution_count": 15,
     "metadata": {},
     "output_type": "execute_result"
    }
   ],
   "source": [
    "r1 = requests.get(\"http://www.pyclass.com/example.html\", headers={'User-agent': 'Mozilla/5.0 (X11; Ubuntu; Linux x86_64; rv:61.0) Gecko/20100101 Firefox/61.0'})\n",
    "c1 = r1.content\n",
    "sp1 = BeautifulSoup(c1, \"html.parser\")\n",
    "sp1"
   ]
  },
  {
   "cell_type": "code",
   "execution_count": 10,
   "metadata": {},
   "outputs": [
    {
     "data": {
      "text/plain": [
       "bytes"
      ]
     },
     "execution_count": 10,
     "metadata": {},
     "output_type": "execute_result"
    }
   ],
   "source": [
    "r2 = requests.get(\"https://pythonhow.com/example.html\", headers={'User-agent': 'Mozilla/5.0 (X11; Ubuntu; Linux x86_64; rv:61.0) Gecko/20100101 Firefox/61.0'})\n",
    "c2 = r2.content\n",
    "type(c2)"
   ]
  },
  {
   "cell_type": "code",
   "execution_count": 30,
   "metadata": {},
   "outputs": [
    {
     "name": "stdout",
     "output_type": "stream",
     "text": [
      "London\n",
      "Paris\n",
      "Tokyo\n"
     ]
    }
   ],
   "source": [
    "sp2 = BeautifulSoup(c2, \"html.parser\")\n",
    "cities = sp2.find_all(\"div\", {\"class\": \"cities\"})\n",
    "for city in cities:\n",
    "    print(city.find_all(\"h2\")[0].text)\n"
   ]
  },
  {
   "cell_type": "code",
   "execution_count": 34,
   "metadata": {},
   "outputs": [],
   "source": [
    "# https://arrests.pascosheriff.org/arrests/default.aspx\n",
    "r3 = requests.get(\"https://arrests.pascosheriff.org/arrests/default.aspx\", headers={'User-agent': 'Mozilla/5.0 (X11; Ubuntu; Linux x86_64; rv:61.0) Gecko/20100101 Firefox/61.0'})\n",
    "c3 = r3.content"
   ]
  },
  {
   "cell_type": "code",
   "execution_count": 86,
   "metadata": {},
   "outputs": [
    {
     "name": "stdout",
     "output_type": "stream",
     "text": [
      "<a href=\"View.aspx?BookingNo=233735\">View</a>\n",
      "name: TUCKER, SHAWN EDWARD \n",
      "DOB: 11/26/1973\n",
      "Booking #: 233735\n",
      "Arrest date: 12/10/2019\n",
      "Arrest time: 18:58:00\n",
      "\n",
      "<a href=\"View.aspx?BookingNo=233734\">View</a>\n",
      "name: COFFMAN, GINGER SUE \n",
      "DOB: 12/09/1983\n",
      "Booking #: 233734\n",
      "Arrest date: 12/10/2019\n",
      "Arrest time: 18:56:00\n",
      "\n",
      "<a href=\"View.aspx?BookingNo=233736\">View</a>\n",
      "name: MAHON, LUCAS BENJAMIN \n",
      "DOB: 11/11/1980\n",
      "Booking #: 233736\n",
      "Arrest date: 12/10/2019\n",
      "Arrest time: 18:54:00\n",
      "\n",
      "<a href=\"View.aspx?BookingNo=233733\">View</a>\n",
      "name: CANGEME, NICHOLAS THOMAS \n",
      "DOB: 11/21/1984\n",
      "Booking #: 233733\n",
      "Arrest date: 12/10/2019\n",
      "Arrest time: 18:44:00\n",
      "\n",
      "<a href=\"View.aspx?BookingNo=233732\">View</a>\n",
      "name: SULLIVAN, TRACY LYNN \n",
      "DOB: 07/23/1981\n",
      "Booking #: 233732\n",
      "Arrest date: 12/10/2019\n",
      "Arrest time: 18:17:00\n",
      "\n",
      "<a href=\"View.aspx?BookingNo=233731\">View</a>\n",
      "name: MOISAN, AMANDA RENEE \n",
      "DOB: 12/02/1997\n",
      "Booking #: 233731\n",
      "Arrest date: 12/10/2019\n",
      "Arrest time: 18:15:00\n",
      "\n",
      "<a href=\"View.aspx?BookingNo=233730\">View</a>\n",
      "name: SWEET, CHAD ALLEN \n",
      "DOB: 05/08/1979\n",
      "Booking #: 233730\n",
      "Arrest date: 12/10/2019\n",
      "Arrest time: 18:13:00\n",
      "\n",
      "<a href=\"View.aspx?BookingNo=233729\">View</a>\n",
      "name: STODOLA, VICTOR WILLIAM JR \n",
      "DOB: 11/13/1980\n",
      "Booking #: 233729\n",
      "Arrest date: 12/10/2019\n",
      "Arrest time: 18:08:00\n",
      "\n",
      "<a href=\"View.aspx?BookingNo=233728\">View</a>\n",
      "name: MOSS, JOHN DAVID \n",
      "DOB: 06/17/1949\n",
      "Booking #: 233728\n",
      "Arrest date: 12/10/2019\n",
      "Arrest time: 16:30:00\n",
      "\n",
      "<a href=\"View.aspx?BookingNo=233727\">View</a>\n",
      "name: CAYER, CHRISTOPHER JOHN \n",
      "DOB: 03/28/1986\n",
      "Booking #: 233727\n",
      "Arrest date: 12/10/2019\n",
      "Arrest time: 15:58:00\n",
      "\n",
      "<a href=\"View.aspx?BookingNo=233726\">View</a>\n",
      "name: PAWELSKI, MICHAEL GERALD \n",
      "DOB: 09/08/2001\n",
      "Booking #: 233726\n",
      "Arrest date: 12/10/2019\n",
      "Arrest time: 15:50:00\n",
      "\n",
      "<a href=\"View.aspx?BookingNo=233724\">View</a>\n",
      "name: ELDER, JAMES ANTHONY \n",
      "DOB: 07/09/1954\n",
      "Booking #: 233724\n",
      "Arrest date: 12/10/2019\n",
      "Arrest time: 15:21:00\n",
      "\n",
      "<a href=\"View.aspx?BookingNo=233723\">View</a>\n",
      "name: KARPUZI, KLAID \n",
      "DOB: 04/25/1977\n",
      "Booking #: 233723\n",
      "Arrest date: 12/10/2019\n",
      "Arrest time: 15:16:00\n",
      "\n",
      "<a href=\"View.aspx?BookingNo=233722\">View</a>\n",
      "name: CONLEY, KERI CAMIELLE \n",
      "DOB: 02/21/1985\n",
      "Booking #: 233722\n",
      "Arrest date: 12/10/2019\n",
      "Arrest time: 14:58:00\n",
      "\n",
      "<a href=\"View.aspx?BookingNo=233721\">View</a>\n",
      "name: DAVIS, CHRISTOPHER FREDERICK \n",
      "DOB: 08/17/1995\n",
      "Booking #: 233721\n",
      "Arrest date: 12/10/2019\n",
      "Arrest time: 14:55:00\n",
      "\n",
      "<a href=\"View.aspx?BookingNo=233720\">View</a>\n",
      "name: DRURY, ROY LEE \n",
      "DOB: 09/27/1975\n",
      "Booking #: 233720\n",
      "Arrest date: 12/10/2019\n",
      "Arrest time: 14:50:00\n",
      "\n",
      "<a href=\"View.aspx?BookingNo=233719\">View</a>\n",
      "name: HATHEWAY, MICHAEL FREDERICK SR \n",
      "DOB: 08/13/1966\n",
      "Booking #: 233719\n",
      "Arrest date: 12/10/2019\n",
      "Arrest time: 14:43:00\n",
      "\n",
      "<a href=\"View.aspx?BookingNo=233718\">View</a>\n",
      "name: PEREZ, ANTONIO \n",
      "DOB: 08/21/1974\n",
      "Booking #: 233718\n",
      "Arrest date: 12/10/2019\n",
      "Arrest time: 13:59:00\n",
      "\n",
      "<a href=\"View.aspx?BookingNo=233717\">View</a>\n",
      "name: BENSON, ERROL STEWART \n",
      "DOB: 09/24/1981\n",
      "Booking #: 233717\n",
      "Arrest date: 12/10/2019\n",
      "Arrest time: 12:25:00\n",
      "\n",
      "<a href=\"View.aspx?BookingNo=233716\">View</a>\n",
      "name: MEYER, NICHOLAS JOHN \n",
      "DOB: 12/27/2000\n",
      "Booking #: 233716\n",
      "Arrest date: 12/10/2019\n",
      "Arrest time: 12:08:00\n",
      "\n"
     ]
    }
   ],
   "source": [
    "sp3 = BeautifulSoup(c3, \"html.parser\")\n",
    "tables = sp3.find_all('table')\n",
    "\n",
    "# table[5] is where peeps are\n",
    "cnt = 0\n",
    "rows = tables[5].find_all('tr', {'class': 'style16'})\n",
    "for row in rows:\n",
    "    # print(row)\n",
    "    pics = row.find('a')\n",
    "    # picture hyperlink\n",
    "    print(pics)\n",
    "    names = row.find_all('td', {'class': 'alignleft' })\n",
    "    print(f\"name: {names[1].text[:-5]}\")\n",
    "    stats = row.find_all('td')\n",
    "    print(f\"DOB: {stats[3].text}\")\n",
    "    print(f\"Booking #: {stats[4].text}\")\n",
    "    print(f\"Arrest date: {stats[5].text}\")\n",
    "    print(f\"Arrest time: {stats[6].text}\")\n",
    "    print()\n"
   ]
  },
  {
   "cell_type": "code",
   "execution_count": null,
   "metadata": {},
   "outputs": [],
   "source": []
  }
 ],
 "metadata": {
  "kernelspec": {
   "display_name": "Python 3",
   "language": "python",
   "name": "python3"
  },
  "language_info": {
   "codemirror_mode": {
    "name": "ipython",
    "version": 3
   },
   "file_extension": ".py",
   "mimetype": "text/x-python",
   "name": "python",
   "nbconvert_exporter": "python",
   "pygments_lexer": "ipython3",
   "version": "3.8.0"
  }
 },
 "nbformat": 4,
 "nbformat_minor": 4
}
